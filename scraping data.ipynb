{
 "cells": [
  {
   "cell_type": "markdown",
   "metadata": {},
   "source": [
    "# Task 1\n",
    "\n",
    "---\n",
    "\n",
    "\n",
    "### Scraping data from Skytrax\n",
    "\n",
    "If you visit [https://www.airlinequality.com] you can see that there is a lot of data there. For this task, we are only interested in reviews related to British Airways and the Airline itself.\n",
    "\n",
    "If you navigate to this link: [https://www.airlinequality.com/airline-reviews/british-airways] you will see this data. Now, we can use `Python` and `BeautifulSoup` to collect all the links to the reviews and then to collect the text data on each of the individual review links."
   ]
  },
  {
   "cell_type": "code",
   "execution_count": 2,
   "metadata": {},
   "outputs": [],
   "source": [
    "import requests\n",
    "from bs4 import BeautifulSoup\n",
    "import pandas as pd\n",
    "import numpy as np\n",
    "from tqdm.notebook import tqdm"
   ]
  },
  {
   "cell_type": "code",
   "execution_count": 3,
   "metadata": {},
   "outputs": [
    {
     "data": {
      "application/vnd.jupyter.widget-view+json": {
       "model_id": "42d88e72ce014cd9a8a39d332f52b9d9",
       "version_major": 2,
       "version_minor": 0
      },
      "text/plain": [
       "  0%|          | 0/20 [00:00<?, ?it/s]"
      ]
     },
     "metadata": {},
     "output_type": "display_data"
    }
   ],
   "source": [
    "base_url = \"https://www.airlinequality.com/airline-reviews/british-airways\"\n",
    "pages = 20\n",
    "page_size = 100\n",
    "\n",
    "reviews=[]\n",
    "review_recommendation=[]\n",
    "dates=[]\n",
    "seat_type=[]\n",
    "\n",
    "for i in tqdm(range(pages)):\n",
    "    url=f'{base_url}/page/{i+1}/?sortby=post_date%3ADesc&pagesize={page_size}'\n",
    "    response=requests.get(url)\n",
    "    \n",
    "    content=response.content\n",
    "    parsed_content=BeautifulSoup(content,'html.parser')\n",
    "    \n",
    "    for j,paras in enumerate(parsed_content(['div','td'],{'class':['text_content','review-value rating-yes','review-value rating-no']})):\n",
    "        if j==0 or j%2==0:\n",
    "            reviews.append(paras.get_text())\n",
    "        else:\n",
    "            review_recommendation.append(paras.get_text())\n",
    "                                         \n",
    "    for date in parsed_content.find_all('time'):\n",
    "        dates.append(date.get('datetime'))\n",
    "     \n",
    "    for element in parsed_content.find_all(\"td\",{'class':'review-rating-header cabin_flown'}):\n",
    "        seat_type.append(element.next_sibling.get_text())\n",
    "    #seat_type.append([element.next_sibling.get_text() for element in parsed_content.find_all(\"td\", \n",
    "                                                                                     #  class_=\"review-rating-header cabin_flown\")])"
   ]
  },
  {
   "cell_type": "code",
   "execution_count": 4,
   "metadata": {},
   "outputs": [
    {
     "data": {
      "text/html": [
       "<div>\n",
       "<style scoped>\n",
       "    .dataframe tbody tr th:only-of-type {\n",
       "        vertical-align: middle;\n",
       "    }\n",
       "\n",
       "    .dataframe tbody tr th {\n",
       "        vertical-align: top;\n",
       "    }\n",
       "\n",
       "    .dataframe thead th {\n",
       "        text-align: right;\n",
       "    }\n",
       "</style>\n",
       "<table border=\"1\" class=\"dataframe\">\n",
       "  <thead>\n",
       "    <tr style=\"text-align: right;\">\n",
       "      <th></th>\n",
       "      <th>date</th>\n",
       "      <th>seat_type</th>\n",
       "      <th>reviews</th>\n",
       "      <th>recommendation</th>\n",
       "    </tr>\n",
       "  </thead>\n",
       "  <tbody>\n",
       "    <tr>\n",
       "      <th>0</th>\n",
       "      <td>2023-05-23</td>\n",
       "      <td>Premium Economy</td>\n",
       "      <td>Not Verified | Top Ten REASONS to not use Brit...</td>\n",
       "      <td>no</td>\n",
       "    </tr>\n",
       "    <tr>\n",
       "      <th>1</th>\n",
       "      <td>2023-05-23</td>\n",
       "      <td>Economy Class</td>\n",
       "      <td>Not Verified |  Easy check in on the way to He...</td>\n",
       "      <td>yes</td>\n",
       "    </tr>\n",
       "    <tr>\n",
       "      <th>2</th>\n",
       "      <td>2023-05-23</td>\n",
       "      <td>Economy Class</td>\n",
       "      <td>✅ Trip Verified |  Online check in worked fine...</td>\n",
       "      <td>yes</td>\n",
       "    </tr>\n",
       "    <tr>\n",
       "      <th>3</th>\n",
       "      <td>2023-05-22</td>\n",
       "      <td>Business Class</td>\n",
       "      <td>✅ Trip Verified |. The BA first lounge at Term...</td>\n",
       "      <td>no</td>\n",
       "    </tr>\n",
       "    <tr>\n",
       "      <th>4</th>\n",
       "      <td>2023-05-22</td>\n",
       "      <td>Business Class</td>\n",
       "      <td>Not Verified | Paid a quick visit to Nice yest...</td>\n",
       "      <td>no</td>\n",
       "    </tr>\n",
       "  </tbody>\n",
       "</table>\n",
       "</div>"
      ],
      "text/plain": [
       "         date        seat_type  \\\n",
       "0  2023-05-23  Premium Economy   \n",
       "1  2023-05-23    Economy Class   \n",
       "2  2023-05-23    Economy Class   \n",
       "3  2023-05-22   Business Class   \n",
       "4  2023-05-22   Business Class   \n",
       "\n",
       "                                             reviews recommendation  \n",
       "0  Not Verified | Top Ten REASONS to not use Brit...             no  \n",
       "1  Not Verified |  Easy check in on the way to He...            yes  \n",
       "2  ✅ Trip Verified |  Online check in worked fine...            yes  \n",
       "3  ✅ Trip Verified |. The BA first lounge at Term...             no  \n",
       "4  Not Verified | Paid a quick visit to Nice yest...             no  "
      ]
     },
     "execution_count": 4,
     "metadata": {},
     "output_type": "execute_result"
    }
   ],
   "source": [
    "df = pd.DataFrame()\n",
    "df['date']=dates\n",
    "df['seat_type']=seat_type\n",
    "df[\"reviews\"] = reviews\n",
    "df['recommendation']=review_recommendation\n",
    "df.head()"
   ]
  },
  {
   "cell_type": "markdown",
   "metadata": {},
   "source": [
    "Congratulations! Now you have your dataset for this task! The loops above collected 1000 reviews by iterating through the paginated pages on the website. However, if you want to collect more data, try increasing the number of pages!\n",
    "\n",
    " The next thing that you should do is clean this data to remove any unnecessary text from each of the rows. For example, \"✅ Trip Verified\" can be removed from each row if it exists, as it's not relevant to what we want to investigate."
   ]
  },
  {
   "cell_type": "code",
   "execution_count": 5,
   "metadata": {
    "scrolled": true
   },
   "outputs": [
    {
     "data": {
      "text/plain": [
       "0       Not Verified | Top Ten REASONS to not use Brit...\n",
       "1       Not Verified |  Easy check in on the way to He...\n",
       "2       ✅ Trip Verified |  Online check in worked fine...\n",
       "3       ✅ Trip Verified |. The BA first lounge at Term...\n",
       "4       Not Verified | Paid a quick visit to Nice yest...\n",
       "                              ...                        \n",
       "1995    Manchester to New York via Heathrow. We were b...\n",
       "1996    ✅ Verified Review |  The British Airways exper...\n",
       "1997    Flew Malta to London. First the plus points. G...\n",
       "1998    Philadelphia to London Heathrow with British A...\n",
       "1999    Upgraded on the outbound flight from London to...\n",
       "Name: reviews, Length: 2000, dtype: object"
      ]
     },
     "execution_count": 5,
     "metadata": {},
     "output_type": "execute_result"
    }
   ],
   "source": [
    "df.reviews"
   ]
  },
  {
   "cell_type": "code",
   "execution_count": 6,
   "metadata": {},
   "outputs": [],
   "source": [
    "def filter_text(text):\n",
    "    text_split=text.split('|')\n",
    "    if len(text_split)>1:\n",
    "        return text_split[1]\n",
    "    else: return text"
   ]
  },
  {
   "cell_type": "code",
   "execution_count": 7,
   "metadata": {
    "scrolled": true
   },
   "outputs": [],
   "source": [
    "df['reviews']=df.reviews.apply(filter_text)"
   ]
  },
  {
   "cell_type": "code",
   "execution_count": 8,
   "metadata": {},
   "outputs": [],
   "source": [
    "df['date']=pd.to_datetime(df.date)"
   ]
  },
  {
   "cell_type": "code",
   "execution_count": 9,
   "metadata": {},
   "outputs": [
    {
     "data": {
      "text/html": [
       "<div>\n",
       "<style scoped>\n",
       "    .dataframe tbody tr th:only-of-type {\n",
       "        vertical-align: middle;\n",
       "    }\n",
       "\n",
       "    .dataframe tbody tr th {\n",
       "        vertical-align: top;\n",
       "    }\n",
       "\n",
       "    .dataframe thead th {\n",
       "        text-align: right;\n",
       "    }\n",
       "</style>\n",
       "<table border=\"1\" class=\"dataframe\">\n",
       "  <thead>\n",
       "    <tr style=\"text-align: right;\">\n",
       "      <th></th>\n",
       "      <th>date</th>\n",
       "      <th>seat_type</th>\n",
       "      <th>reviews</th>\n",
       "      <th>recommendation</th>\n",
       "    </tr>\n",
       "  </thead>\n",
       "  <tbody>\n",
       "    <tr>\n",
       "      <th>0</th>\n",
       "      <td>2023-05-23</td>\n",
       "      <td>Premium Economy</td>\n",
       "      <td>Top Ten REASONS to not use British Airways To...</td>\n",
       "      <td>no</td>\n",
       "    </tr>\n",
       "    <tr>\n",
       "      <th>1</th>\n",
       "      <td>2023-05-23</td>\n",
       "      <td>Economy Class</td>\n",
       "      <td>Easy check in on the way to Heathrow. The fl...</td>\n",
       "      <td>yes</td>\n",
       "    </tr>\n",
       "    <tr>\n",
       "      <th>2</th>\n",
       "      <td>2023-05-23</td>\n",
       "      <td>Economy Class</td>\n",
       "      <td>Online check in worked fine. Quick security ...</td>\n",
       "      <td>yes</td>\n",
       "    </tr>\n",
       "    <tr>\n",
       "      <th>3</th>\n",
       "      <td>2023-05-22</td>\n",
       "      <td>Business Class</td>\n",
       "      <td>. The BA first lounge at Terminal 5 was a  zoo...</td>\n",
       "      <td>no</td>\n",
       "    </tr>\n",
       "    <tr>\n",
       "      <th>4</th>\n",
       "      <td>2023-05-22</td>\n",
       "      <td>Business Class</td>\n",
       "      <td>Paid a quick visit to Nice yesterday from Hea...</td>\n",
       "      <td>no</td>\n",
       "    </tr>\n",
       "  </tbody>\n",
       "</table>\n",
       "</div>"
      ],
      "text/plain": [
       "        date        seat_type  \\\n",
       "0 2023-05-23  Premium Economy   \n",
       "1 2023-05-23    Economy Class   \n",
       "2 2023-05-23    Economy Class   \n",
       "3 2023-05-22   Business Class   \n",
       "4 2023-05-22   Business Class   \n",
       "\n",
       "                                             reviews recommendation  \n",
       "0   Top Ten REASONS to not use British Airways To...             no  \n",
       "1    Easy check in on the way to Heathrow. The fl...            yes  \n",
       "2    Online check in worked fine. Quick security ...            yes  \n",
       "3  . The BA first lounge at Terminal 5 was a  zoo...             no  \n",
       "4   Paid a quick visit to Nice yesterday from Hea...             no  "
      ]
     },
     "execution_count": 9,
     "metadata": {},
     "output_type": "execute_result"
    }
   ],
   "source": [
    "df.head()"
   ]
  },
  {
   "cell_type": "code",
   "execution_count": null,
   "metadata": {},
   "outputs": [],
   "source": [
    "df.to_csv(\"data/BA_reviews.csv\")"
   ]
  }
 ],
 "metadata": {
  "kernelspec": {
   "display_name": "Python 3 (ipykernel)",
   "language": "python",
   "name": "python3"
  },
  "language_info": {
   "codemirror_mode": {
    "name": "ipython",
    "version": 3
   },
   "file_extension": ".py",
   "mimetype": "text/x-python",
   "name": "python",
   "nbconvert_exporter": "python",
   "pygments_lexer": "ipython3",
   "version": "3.9.16"
  },
  "vscode": {
   "interpreter": {
    "hash": "4f7924c4c56b083e0e50eadfe7ef592a7a8ef70df33a0047f82280e6be1afe15"
   }
  }
 },
 "nbformat": 4,
 "nbformat_minor": 2
}
